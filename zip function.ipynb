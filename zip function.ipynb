{
 "cells": [
  {
   "cell_type": "markdown",
   "metadata": {},
   "source": [
    "# Using the zip() function"
   ]
  },
  {
   "cell_type": "markdown",
   "metadata": {},
   "source": [
    "### Traversing lists in Parallel"
   ]
  },
  {
   "cell_type": "markdown",
   "metadata": {},
   "source": [
    "Enables you to iterate in parallel over many iterables"
   ]
  },
  {
   "cell_type": "code",
   "execution_count": 2,
   "metadata": {},
   "outputs": [
    {
     "name": "stdout",
     "output_type": "stream",
     "text": [
      "character: x\n",
      "number: 1\n",
      "character: y\n",
      "number: 2\n",
      "character: z\n",
      "number: 3\n"
     ]
    }
   ],
   "source": [
    "characters= [\"x\",\"y\",\"z\"]\n",
    "nos=[1,2,3]\n",
    "for a,b in zip(characters,nos):\n",
    "    print(\"character: {}\".format(a))\n",
    "    print(\"number: {}\".format(b))"
   ]
  },
  {
   "cell_type": "markdown",
   "metadata": {},
   "source": [
    "### Traversing a dictionary in sequence"
   ]
  },
  {
   "cell_type": "markdown",
   "metadata": {},
   "source": [
    "Since dictionaries are ordered collections, one can use the zip() function to iterate multiple dictionaries"
   ]
  },
  {
   "cell_type": "code",
   "execution_count": 5,
   "metadata": {},
   "outputs": [
    {
     "name": "stdout",
     "output_type": "stream",
     "text": [
      "name  ->  John\n",
      "name  ->  Doe\n",
      "job  ->  data scientist\n",
      "job  ->  database manager\n"
     ]
    }
   ],
   "source": [
    "employee_1={\"name\":\"John\",\"job\":\"data scientist\"}\n",
    "employee_2={\"name\":\"Doe\",\"job\":\"database manager\"}\n",
    "for (a,b),(c,d) in zip(employee_1.items(),employee_2.items()):\n",
    "    print(a, \" -> \" , b)\n",
    "    print(c, \" -> \" , d)"
   ]
  },
  {
   "cell_type": "markdown",
   "metadata": {},
   "source": [
    "### Unzipping a sequence"
   ]
  },
  {
   "cell_type": "markdown",
   "metadata": {},
   "source": [
    "zip() function uses the operator * to unzip data"
   ]
  },
  {
   "cell_type": "markdown",
   "metadata": {},
   "source": [
    "  - Unzipping a list of tuples. The example below illustrates how to use the zip function to  unzip a list"
   ]
  },
  {
   "cell_type": "code",
   "execution_count": 7,
   "metadata": {
    "scrolled": true
   },
   "outputs": [
    {
     "name": "stdout",
     "output_type": "stream",
     "text": [
      "(1, 2, 3)\n",
      "('mango', 'banana', 'apple')\n"
     ]
    }
   ],
   "source": [
    "fruits=[(1,\"mango\"),(2,\"banana\"),(3,\"apple\")]\n",
    "number, fruit = zip(*fruits)\n",
    "print(number)\n",
    "print(fruit)"
   ]
  },
  {
   "cell_type": "markdown",
   "metadata": {},
   "source": [
    "### Sorting in parallel"
   ]
  },
  {
   "cell_type": "markdown",
   "metadata": {},
   "source": [
    "Use the zip() function together with .sort(). Important when a user wants to combine two lists then sort them."
   ]
  },
  {
   "cell_type": "code",
   "execution_count": 10,
   "metadata": {},
   "outputs": [
    {
     "data": {
      "text/plain": [
       "[(1, 'a'), (2, 'b'), (3, 'c'), (4, 'd'), (5, 'e')]"
      ]
     },
     "execution_count": 10,
     "metadata": {},
     "output_type": "execute_result"
    }
   ],
   "source": [
    "letters=['c','e','a','d','b']\n",
    "numbers=[3,5,1,4,2]\n",
    "#sorting by numbers\n",
    "output =list(zip(numbers,letters))\n",
    "output.sort()\n",
    "output\n"
   ]
  },
  {
   "cell_type": "markdown",
   "metadata": {},
   "source": [
    "### Calculating in Pairs"
   ]
  },
  {
   "cell_type": "markdown",
   "metadata": {},
   "source": [
    "One can use zip() function for quick calculations"
   ]
  },
  {
   "cell_type": "code",
   "execution_count": 12,
   "metadata": {},
   "outputs": [
    {
     "name": "stdout",
     "output_type": "stream",
     "text": [
      "Gross profit: 90000\n",
      "Gross profit: 80000\n",
      "Gross profit: 45000\n"
     ]
    }
   ],
   "source": [
    "revenue=[120000,100000,80000]\n",
    "expenses=[30000,20000,35000]\n",
    "for a,b in zip(revenue,expenses):\n",
    "    profit=a-b\n",
    "    print(\"Gross profit: {}\".format(profit))"
   ]
  },
  {
   "cell_type": "markdown",
   "metadata": {},
   "source": [
    "### Creating dictionaries"
   ]
  },
  {
   "cell_type": "markdown",
   "metadata": {},
   "source": [
    "A convenient wawy to achieve this is by using dict() and zip() function"
   ]
  },
  {
   "cell_type": "code",
   "execution_count": 13,
   "metadata": {},
   "outputs": [
    {
     "data": {
      "text/plain": [
       "{'name': 'John Doe', 'course': 'IT', 'unit': 'Database Management'}"
      ]
     },
     "execution_count": 13,
     "metadata": {},
     "output_type": "execute_result"
    }
   ],
   "source": [
    "rows=['name','course','unit']\n",
    "columns=['John Doe','IT','Database Management']\n",
    "\n",
    "data=dict(zip(rows,columns))\n",
    "data"
   ]
  }
 ],
 "metadata": {
  "kernelspec": {
   "display_name": "Python 3",
   "language": "python",
   "name": "python3"
  },
  "language_info": {
   "codemirror_mode": {
    "name": "ipython",
    "version": 3
   },
   "file_extension": ".py",
   "mimetype": "text/x-python",
   "name": "python",
   "nbconvert_exporter": "python",
   "pygments_lexer": "ipython3",
   "version": "3.8.0"
  }
 },
 "nbformat": 4,
 "nbformat_minor": 4
}
